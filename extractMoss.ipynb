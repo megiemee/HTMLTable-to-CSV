{
 "cells": [
  {
   "cell_type": "code",
   "execution_count": 3,
   "id": "e4b65e15",
   "metadata": {},
   "outputs": [],
   "source": [
    "import requests\n",
    "\n",
    "from bs4 import BeautifulSoup\n",
    "\n",
    "def download_page(url: str) -> str:\n",
    "    response = requests.get(url)\n",
    "    response.raise_for_status()\n",
    "    return response.text"
   ]
  },
  {
   "cell_type": "code",
   "execution_count": null,
   "id": "792682e1",
   "metadata": {},
   "outputs": [],
   "source": [
    "# Test download_page\n",
    "# page_link = input(\"Input link to results page: \")\n",
    "# response = download_page(page_link) "
   ]
  },
  {
   "cell_type": "code",
   "execution_count": 5,
   "id": "3f39602b",
   "metadata": {},
   "outputs": [],
   "source": [
    "def parser(response: str) -> dict:\n",
    "    soup = BeautifulSoup(response, 'html.parser')\n",
    "    result = {}\n",
    "    for row in soup.table.find_all('tr'):\n",
    "        row_header = row.th.get_text()\n",
    "        row_cell = row.td.get_text()\n",
    "        result[row_header] = row_cell\n",
    "        return result"
   ]
  },
  {
   "cell_type": "code",
   "execution_count": 6,
   "id": "cd3f652d",
   "metadata": {},
   "outputs": [],
   "source": [
    "# Test parser\n",
    "# result = parser(response)\n",
    "# for r in result:\n",
    "#     print(r)"
   ]
  },
  {
   "cell_type": "code",
   "execution_count": 7,
   "id": "e647e45a",
   "metadata": {},
   "outputs": [],
   "source": [
    "def split_data(result: dict) -> dict:\n",
    "    for r in result:\n",
    "        splitted = r.split(\"\\n\")\n",
    "        header = splitted[0].split(\" \")\n",
    "        body = splitted[1:]\n",
    "        data= []\n",
    "        for i in range(0, len(body) - 1, 3):\n",
    "            \n",
    "            # Extract and calc distance val\n",
    "            p1 = int(body[i][body[i].find(\"(\") + 1: body[i].find(\"%\")])\n",
    "            p2 = int(body[i+1][body[i+1].find(\"(\") + 1: body[i+1].find(\"%\")])\n",
    "            pA = (p1 + p2) / 2\n",
    "            distance = round(1 - (pA/100), 2)\n",
    "            data.append({header[0]: body[i], header[1]: body[i+1], header[2]: body[i+2], \"Percentage1\": p1, \"Percentage2\": p2, \"Average Percentage\": pA, \"Distance\": distance})\n",
    "            \n",
    "        return data\n",
    "    \n"
   ]
  },
  {
   "cell_type": "code",
   "execution_count": 8,
   "id": "26a67c17",
   "metadata": {},
   "outputs": [],
   "source": [
    "# Test split_data\n",
    "# data = split_data(result)"
   ]
  },
  {
   "cell_type": "code",
   "execution_count": 9,
   "id": "4ba018f7",
   "metadata": {},
   "outputs": [],
   "source": [
    "# Write formatted info from cite into csv\n",
    "\n",
    "import csv\n",
    "\n",
    "def write_data(data: dict, filename: str):\n",
    "    with open(filename, \"w\", newline=\"\") as csvfile:\n",
    "        fieldnames = list(data[0].keys())\n",
    "        writer = csv.DictWriter(csvfile, fieldnames = fieldnames)\n",
    "        writer.writeheader()\n",
    "        writer.writerows(data)"
   ]
  },
  {
   "cell_type": "code",
   "execution_count": 10,
   "id": "2bdd28ed",
   "metadata": {},
   "outputs": [],
   "source": [
    "# Test write_data\n",
    "# write_data(data, \"extractMoss.csv\") #any csv file"
   ]
  },
  {
   "cell_type": "code",
   "execution_count": 11,
   "id": "a4664d3b",
   "metadata": {},
   "outputs": [],
   "source": [
    "# To use: input site addr & csv filename to write to\n",
    "# Output: Csv file in same folder with extracted info & calculated distance\n",
    "\n",
    "def extractInfo(siteAddr: str, writeFile: str):\n",
    "    response = download_page(siteAddr)\n",
    "    result = parser(response)\n",
    "    data = split_data(result)\n",
    "    write_data(data, writeFile)\n",
    "    "
   ]
  },
  {
   "cell_type": "code",
   "execution_count": 12,
   "id": "82c1ae09",
   "metadata": {},
   "outputs": [
    {
     "name": "stdout",
     "output_type": "stream",
     "text": [
      "Input address of site to extract data: http://moss.stanford.edu/results/7/6164340468562/\n",
      "Input csv filename (include .csv) to write data to: test.csv\n"
     ]
    }
   ],
   "source": [
    "# RUN THIS CELL TO USE\n",
    "\n",
    "siteAddr = input(\"Input address of site to extract data: \")\n",
    "writeFile = input(\"Input csv filename (include .csv) to write data to: \")\n",
    "\n",
    "extractInfo(siteAddr, writeFile)"
   ]
  },
  {
   "cell_type": "code",
   "execution_count": 135,
   "id": "74cca01f",
   "metadata": {},
   "outputs": [],
   "source": []
  },
  {
   "cell_type": "code",
   "execution_count": null,
   "id": "4740e9d7",
   "metadata": {},
   "outputs": [],
   "source": []
  },
  {
   "cell_type": "code",
   "execution_count": null,
   "id": "84ce261b",
   "metadata": {},
   "outputs": [],
   "source": []
  },
  {
   "cell_type": "code",
   "execution_count": null,
   "id": "18174aac",
   "metadata": {},
   "outputs": [],
   "source": []
  }
 ],
 "metadata": {
  "kernelspec": {
   "display_name": "Python 3",
   "language": "python",
   "name": "python3"
  },
  "language_info": {
   "codemirror_mode": {
    "name": "ipython",
    "version": 3
   },
   "file_extension": ".py",
   "mimetype": "text/x-python",
   "name": "python",
   "nbconvert_exporter": "python",
   "pygments_lexer": "ipython3",
   "version": "3.12.0"
  }
 },
 "nbformat": 4,
 "nbformat_minor": 5
}
